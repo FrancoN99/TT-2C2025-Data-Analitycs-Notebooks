{
  "nbformat": 4,
  "nbformat_minor": 0,
  "metadata": {
    "colab": {
      "provenance": []
    },
    "kernelspec": {
      "name": "python3",
      "display_name": "Python 3"
    },
    "language_info": {
      "name": "python"
    }
  },
  "cells": [
    {
      "cell_type": "markdown",
      "source": [
        "# Ejercicio 1. Lambda"
      ],
      "metadata": {
        "id": "KBEiKOiHFtcy"
      }
    },
    {
      "cell_type": "markdown",
      "source": [
        "Declara una función lambda llamada mayor que reciba dos números y devuelva el mayor de los dos.\n",
        "<BR>\n",
        "Prueba con los pares: (7, 3), (10, 15).\n",
        "<BR>\n",
        "Qué sucede si son iguales (20, 20)?"
      ],
      "metadata": {
        "id": "KkZLAEDmF-dY"
      }
    },
    {
      "cell_type": "code",
      "execution_count": 4,
      "metadata": {
        "id": "gRD0-JE3EXZ4",
        "outputId": "4b4d5372-96a1-4432-9bcf-e228b29715ec",
        "colab": {
          "base_uri": "https://localhost:8080/"
        }
      },
      "outputs": [
        {
          "output_type": "execute_result",
          "data": {
            "text/plain": [
              "20"
            ]
          },
          "metadata": {},
          "execution_count": 4
        }
      ],
      "source": [
        "# Tu código aquí\n",
        "\n",
        "mayor = lambda x , y: x if x > y else y\n",
        "\n",
        "mayor(20,20)"
      ]
    },
    {
      "cell_type": "markdown",
      "source": [
        "# Ejercicio 2. Lambda"
      ],
      "metadata": {
        "id": "jOQzCnNmGD4a"
      }
    },
    {
      "cell_type": "markdown",
      "source": [
        "Declara una función lambda llamada cuadrado que reciba un número y devuelva ese número al cuadrado.\n",
        "Prueba tu función con los valores 2, 5 y 10.\n",
        "<BR>\n",
        "*Hint* usar pow de math"
      ],
      "metadata": {
        "id": "CzdL_z0GHeva"
      }
    },
    {
      "cell_type": "code",
      "source": [
        "# Tu código aquí\n",
        "\n",
        "cuadrado = lambda x : pow(x,2)\n",
        "\n",
        "print(cuadrado(2))\n",
        "\n",
        "print(cuadrado(5))\n",
        "cuadrado(10)"
      ],
      "metadata": {
        "id": "kuc5kIGtHt2n",
        "outputId": "4f36b339-5330-40a1-c900-e45a001dee56",
        "colab": {
          "base_uri": "https://localhost:8080/"
        }
      },
      "execution_count": 11,
      "outputs": [
        {
          "output_type": "stream",
          "name": "stdout",
          "text": [
            "4\n",
            "25\n"
          ]
        },
        {
          "output_type": "execute_result",
          "data": {
            "text/plain": [
              "100"
            ]
          },
          "metadata": {},
          "execution_count": 11
        }
      ]
    },
    {
      "cell_type": "markdown",
      "source": [
        "# Ejercicio 3. List Comprehension"
      ],
      "metadata": {
        "id": "Zl6pnzu_JEjd"
      }
    },
    {
      "cell_type": "markdown",
      "source": [
        "Convertir montos y aplicar IVA\n",
        "<BR>\n",
        "Objetivo: pasar montos en USD a ARS"
      ],
      "metadata": {
        "id": "ToPga-kzKQ0E"
      }
    },
    {
      "cell_type": "code",
      "source": [
        "ventas = [\n",
        "    {\"id\": 1, \"monto_usd\": 10.0},\n",
        "    {\"id\": 2, \"monto_usd\": 25.5},\n",
        "    {\"id\": 3, \"monto_usd\": 13.2},\n",
        "]\n",
        "tipo_cambio = 1350\n",
        "\n",
        "\n",
        "# 👉 Generar lista de montos finales en ARS (redondeados a 2 decimales)\n",
        "montos_finales_ars = [round(x[\"monto_usd\"] * tipo_cambio,2) for x in ventas]\n",
        "print(montos_finales_ars)  # Ej: [?, ?, ?]"
      ],
      "metadata": {
        "id": "KRigrrXrKXXJ",
        "outputId": "f724b8aa-135f-4d09-da19-1f908a00e1ed",
        "colab": {
          "base_uri": "https://localhost:8080/"
        }
      },
      "execution_count": 43,
      "outputs": [
        {
          "output_type": "stream",
          "name": "stdout",
          "text": [
            "[13500.0, 34425.0, 17820.0]\n"
          ]
        }
      ]
    },
    {
      "cell_type": "markdown",
      "source": [
        "Ejercicio 4. List Comprehension"
      ],
      "metadata": {
        "id": "d6YKawUYJsBU"
      }
    },
    {
      "cell_type": "markdown",
      "source": [
        "Crear una lista con el IMC de cada paciente (redondeado a 1 decimal)."
      ],
      "metadata": {
        "id": "Zk2FAh0gNEbU"
      }
    },
    {
      "cell_type": "code",
      "source": [
        "# Tu código aquí\n",
        "pacientes = [\n",
        "    {\"nombre\": \"Ana\", \"peso_kg\": 62, \"altura_m\": 1.65},\n",
        "    {\"nombre\": \"Luis\", \"peso_kg\": 80, \"altura_m\": 1.78},\n",
        "    {\"nombre\": \"Mia\", \"peso_kg\": 54, \"altura_m\": 1.60},\n",
        "]\n",
        "\n",
        "# IMC = peso_kg / (altura_m ** 2)\n",
        "imc = [ {paciente[\"nombre\"] : round(paciente[\"peso_kg\"] / paciente[\"altura_m\"]**2,2)} for paciente in pacientes ]\n",
        "# imc = [ {paciente[\"nombre\"] : round(paciente[\"peso_kg\"] / paciente[\"altura_m\"]**2,2)} for paciente in pacientes ]\n",
        "#print(imc[0][\"Ana\"])\n",
        "\n",
        "lista_imc = [round(paciente[\"peso_kg\"] / paciente[\"altura_m\"]**2,2) for paciente in pacientes]\n",
        "print(lista_imc)"
      ],
      "metadata": {
        "id": "cSq_E63kNGwh",
        "outputId": "cb2f8c7e-290a-4c29-bdce-3a239b06d90c",
        "colab": {
          "base_uri": "https://localhost:8080/"
        }
      },
      "execution_count": 48,
      "outputs": [
        {
          "output_type": "stream",
          "name": "stdout",
          "text": [
            "22.77\n",
            "[22.77, 25.25, 21.09]\n"
          ]
        }
      ]
    },
    {
      "cell_type": "markdown",
      "source": [
        "Ejercicio 5. List Comprehension"
      ],
      "metadata": {
        "id": "kVXLCrb_NRDv"
      }
    },
    {
      "cell_type": "markdown",
      "source": [
        "Con condicional: filtrar y transformar temperaturas\n",
        "<BR>\n",
        "Objetivo: quedarte solo con temperaturas numéricas > 25°C y convertirlas a °F."
      ],
      "metadata": {
        "id": "ZVU-eXyHNT7v"
      }
    },
    {
      "cell_type": "code",
      "source": [
        "# Tu código aquí\n",
        "temperaturas = [23, 29, None, 31, 18, \"N/A\", 27]\n",
        "\n",
        "#  °F = °C * 9/5 + 32\n",
        "temps_f = [  t * 9/5 + 32 for t in temperaturas if isinstance(t, (int, float))  ]\n",
        "print(temps_f)  # Ej: [84.2, 87.8, 80.6]"
      ],
      "metadata": {
        "id": "15ioRkjENYAJ",
        "outputId": "f72f6477-9e83-409d-d641-1c94574d275b",
        "colab": {
          "base_uri": "https://localhost:8080/"
        }
      },
      "execution_count": 50,
      "outputs": [
        {
          "output_type": "stream",
          "name": "stdout",
          "text": [
            "[73.4, 84.2, 87.8, 64.4, 80.6]\n"
          ]
        }
      ]
    },
    {
      "cell_type": "markdown",
      "source": [
        "# Ejercicio 6\n"
      ],
      "metadata": {
        "id": "RRj0-2IcNdsQ"
      }
    },
    {
      "cell_type": "markdown",
      "source": [
        "Con condicional: limpiar y convertir métricas\n",
        "<BR>\n",
        "Objetivo: de una lista de strings con números y “ruido” (N/A, 0, vacío),\n",
        "obtener solo enteros válidos > 0.\n",
        "<BR>\n",
        "*Hint* round, isinstance, o str.isdigit()"
      ],
      "metadata": {
        "id": "0B3_GK_QNiUZ"
      }
    },
    {
      "cell_type": "code",
      "source": [
        "clicks_str = [\"100\", \"N/A\", \"250\", \"0\", \"\", \"300\", \"—\", \"75\"]\n",
        "\n",
        "clicks_validos = [ int(s)  for s in clicks_str if str.isdigit(s) == True and int(s) >0 ]\n",
        "print(clicks_validos)  # Ej: [100, 250, 300, 75]"
      ],
      "metadata": {
        "id": "TeAIg3BHNoyl",
        "outputId": "a31f6e1f-383c-4181-dc41-361dc06e1bdc",
        "colab": {
          "base_uri": "https://localhost:8080/"
        }
      },
      "execution_count": 55,
      "outputs": [
        {
          "output_type": "stream",
          "name": "stdout",
          "text": [
            "[100, 250, 300, 75]\n"
          ]
        }
      ]
    }
  ]
}